{
 "cells": [
  {
   "cell_type": "markdown",
   "metadata": {},
   "source": [
    "# Unit 5 - Financial Planning"
   ]
  },
  {
   "cell_type": "code",
   "execution_count": 1,
   "metadata": {},
   "outputs": [],
   "source": [
    "# Initial imports\n",
    "import os\n",
    "import requests\n",
    "import pandas as pd\n",
    "from dotenv import load_dotenv\n",
    "import alpaca_trade_api as tradeapi\n",
    "from MCForecastTools import MCSimulation\n",
    "import json\n",
    "%matplotlib inline"
   ]
  },
  {
   "cell_type": "code",
   "execution_count": 2,
   "metadata": {},
   "outputs": [
    {
     "data": {
      "text/plain": [
       "True"
      ]
     },
     "execution_count": 2,
     "metadata": {},
     "output_type": "execute_result"
    }
   ],
   "source": [
    "# Load .env enviroment variables\n",
    "load_dotenv()"
   ]
  },
  {
   "cell_type": "markdown",
   "metadata": {},
   "source": [
    "## Part 1 - Personal Finance Planner"
   ]
  },
  {
   "cell_type": "markdown",
   "metadata": {},
   "source": [
    "### Collect Crypto Prices Using the `requests` Library"
   ]
  },
  {
   "cell_type": "code",
   "execution_count": 3,
   "metadata": {},
   "outputs": [],
   "source": [
    "# Set current amount of crypto assets\n",
    "my_btc = 1.2\n",
    "my_eth = 5.3"
   ]
  },
  {
   "cell_type": "code",
   "execution_count": 4,
   "metadata": {},
   "outputs": [],
   "source": [
    "# Crypto API URLs\n",
    "btc_url = \"https://api.alternative.me/v2/ticker/Bitcoin/?convert=USD\"\n",
    "eth_url = \"https://api.alternative.me/v2/ticker/Ethereum/?convert=USD\""
   ]
  },
  {
   "cell_type": "code",
   "execution_count": 11,
   "metadata": {},
   "outputs": [
    {
     "name": "stdout",
     "output_type": "stream",
     "text": [
      "The current value of your 1.2 BTC is $28105.20\n",
      "The current value of your 5.3 ETH is $9948.42\n",
      "38053.618\n"
     ]
    }
   ],
   "source": [
    "# Fetch current BTC price\n",
    "btc_data = requests.get(btc_url).json()\n",
    "btc_price = btc_data[\"data\"]['1']['quotes']['USD']['price']\n",
    "# Fetch current ETH price\n",
    "eth_data = requests.get(eth_url).json()\n",
    "eth_price = eth_data[\"data\"]['1027']['quotes']['USD']['price']\n",
    "\n",
    "# Compute current value of my crypto\n",
    "my_btc_value = my_btc * btc_price\n",
    "my_eth_value = my_eth * eth_price\n",
    "crypto_total = my_eth_value + my_btc_value\n",
    "# Print current crypto wallet balance\n",
    "print(f\"The current value of your {my_btc} BTC is ${my_btc_value:0.2f}\")\n",
    "print(f\"The current value of your {my_eth} ETH is ${my_eth_value:0.2f}\")\n",
    "print(f\"Total value of crypto is {crypto_total}\")"
   ]
  },
  {
   "cell_type": "markdown",
   "metadata": {},
   "source": [
    "### Collect Investments Data Using Alpaca: `SPY` (stocks) and `AGG` (bonds)"
   ]
  },
  {
   "cell_type": "code",
   "execution_count": 6,
   "metadata": {},
   "outputs": [],
   "source": [
    "# Set current amount of shares\n",
    "my_agg = 200\n",
    "my_spy = 50"
   ]
  },
  {
   "cell_type": "code",
   "execution_count": 7,
   "metadata": {},
   "outputs": [],
   "source": [
    "# Set Alpaca API key and secret\n",
    "alpaca_api_key = os.getenv(\"ALPACA_API_KEY\")\n",
    "alpaca_secret_key = os.getenv(\"ALPACA_SECERET_KEY\")\n",
    "\n",
    "# Create the Alpaca API object\n",
    "alpaca = tradeapi.REST(\n",
    "    alpaca_api_key,\n",
    "    alpaca_secret_key,\n",
    "    api_version=\"v2\")"
   ]
  },
  {
   "cell_type": "code",
   "execution_count": 8,
   "metadata": {},
   "outputs": [
    {
     "data": {
      "text/html": [
       "<div>\n",
       "<style scoped>\n",
       "    .dataframe tbody tr th:only-of-type {\n",
       "        vertical-align: middle;\n",
       "    }\n",
       "\n",
       "    .dataframe tbody tr th {\n",
       "        vertical-align: top;\n",
       "    }\n",
       "\n",
       "    .dataframe thead tr th {\n",
       "        text-align: left;\n",
       "    }\n",
       "\n",
       "    .dataframe thead tr:last-of-type th {\n",
       "        text-align: right;\n",
       "    }\n",
       "</style>\n",
       "<table border=\"1\" class=\"dataframe\">\n",
       "  <thead>\n",
       "    <tr>\n",
       "      <th></th>\n",
       "      <th colspan=\"7\" halign=\"left\">AGG</th>\n",
       "      <th colspan=\"7\" halign=\"left\">SPY</th>\n",
       "    </tr>\n",
       "    <tr>\n",
       "      <th></th>\n",
       "      <th>open</th>\n",
       "      <th>high</th>\n",
       "      <th>low</th>\n",
       "      <th>close</th>\n",
       "      <th>volume</th>\n",
       "      <th>trade_count</th>\n",
       "      <th>vwap</th>\n",
       "      <th>open</th>\n",
       "      <th>high</th>\n",
       "      <th>low</th>\n",
       "      <th>close</th>\n",
       "      <th>volume</th>\n",
       "      <th>trade_count</th>\n",
       "      <th>vwap</th>\n",
       "    </tr>\n",
       "    <tr>\n",
       "      <th>timestamp</th>\n",
       "      <th></th>\n",
       "      <th></th>\n",
       "      <th></th>\n",
       "      <th></th>\n",
       "      <th></th>\n",
       "      <th></th>\n",
       "      <th></th>\n",
       "      <th></th>\n",
       "      <th></th>\n",
       "      <th></th>\n",
       "      <th></th>\n",
       "      <th></th>\n",
       "      <th></th>\n",
       "      <th></th>\n",
       "    </tr>\n",
       "  </thead>\n",
       "  <tbody>\n",
       "    <tr>\n",
       "      <th>2020-07-17 04:00:00+00:00</th>\n",
       "      <td>118.94</td>\n",
       "      <td>118.99</td>\n",
       "      <td>118.77</td>\n",
       "      <td>118.88</td>\n",
       "      <td>2549106</td>\n",
       "      <td>11425</td>\n",
       "      <td>118.832256</td>\n",
       "      <td>321.82</td>\n",
       "      <td>322.57</td>\n",
       "      <td>319.735</td>\n",
       "      <td>321.72</td>\n",
       "      <td>64041703</td>\n",
       "      <td>324200</td>\n",
       "      <td>321.546922</td>\n",
       "    </tr>\n",
       "  </tbody>\n",
       "</table>\n",
       "</div>"
      ],
      "text/plain": [
       "                              AGG                                   \\\n",
       "                             open    high     low   close   volume   \n",
       "timestamp                                                            \n",
       "2020-07-17 04:00:00+00:00  118.94  118.99  118.77  118.88  2549106   \n",
       "\n",
       "                                                      SPY                   \\\n",
       "                          trade_count        vwap    open    high      low   \n",
       "timestamp                                                                    \n",
       "2020-07-17 04:00:00+00:00       11425  118.832256  321.82  322.57  319.735   \n",
       "\n",
       "                                                                     \n",
       "                            close    volume trade_count        vwap  \n",
       "timestamp                                                            \n",
       "2020-07-17 04:00:00+00:00  321.72  64041703      324200  321.546922  "
      ]
     },
     "execution_count": 8,
     "metadata": {},
     "output_type": "execute_result"
    }
   ],
   "source": [
    "# Format current date as ISO format\n",
    "today = pd.Timestamp(\"2020-07-17\", tz=\"America/New_York\").isoformat()\n",
    "\n",
    "# Set the tickers\n",
    "tickers = [\"AGG\", \"SPY\"]\n",
    "\n",
    "# Set timeframe to \"1Day\" for Alpaca API\n",
    "timeframe = \"1Day\"\n",
    "\n",
    "# Get current closing prices for SPY and AGG\n",
    "df_portfolio = alpaca.get_bars(\n",
    "    tickers,\n",
    "    timeframe,\n",
    "    start = today,\n",
    "    end = today\n",
    ").df\n",
    "\n",
    "# Reorganize the DataFrame\n",
    "# Separate ticker data\n",
    "AGG = df_portfolio[df_portfolio['symbol']=='AGG'].drop('symbol', axis=1)\n",
    "SPY = df_portfolio[df_portfolio['symbol']=='SPY'].drop('symbol', axis=1)\n",
    "\n",
    "\n",
    "# Concatenate the ticker DataFrames\n",
    "df_portfolio = pd.concat([AGG, SPY], axis=1, keys=['AGG', 'SPY'])\n",
    "\n",
    "# Preview DataFrame\n",
    "df_portfolio"
   ]
  },
  {
   "cell_type": "code",
   "execution_count": 9,
   "metadata": {},
   "outputs": [
    {
     "name": "stdout",
     "output_type": "stream",
     "text": [
      "Current AGG closing price: $118.88\n",
      "Current SPY closing price: $321.72\n"
     ]
    }
   ],
   "source": [
    "# Pick AGG and SPY close prices\n",
    "agg_close_price = df_portfolio[\"AGG\"][\"close\"][-1]\n",
    "spy_close_price = df_portfolio[\"SPY\"][\"close\"][-1]\n",
    "# Print AGG and SPY close price\n",
    "print(f\"Current AGG closing price: ${agg_close_price}\")\n",
    "print(f\"Current SPY closing price: ${spy_close_price}\")"
   ]
  },
  {
   "cell_type": "code",
   "execution_count": 22,
   "metadata": {},
   "outputs": [
    {
     "name": "stdout",
     "output_type": "stream",
     "text": [
      "The current value of your 50 SPY shares is $16086.00\n",
      "The current value of your 200 AGG shares is $23776.00\n",
      "Total value of shares 39862.0\n"
     ]
    }
   ],
   "source": [
    "# Compute the current value of shares\n",
    "my_spy_value = my_spy * spy_close_price\n",
    "my_agg_value = my_agg * agg_close_price\n",
    "shares_total = my_spy_value + my_agg_value\n",
    "# Print current value of shares\n",
    "print(f\"The current value of your {my_spy} SPY shares is ${my_spy_value:0.2f}\")\n",
    "print(f\"The current value of your {my_agg} AGG shares is ${my_agg_value:0.2f}\")\n",
    "print(f\"Total value of shares is {shares_total}\")"
   ]
  },
  {
   "cell_type": "markdown",
   "metadata": {},
   "source": [
    "### Savings Health Analysis"
   ]
  },
  {
   "cell_type": "code",
   "execution_count": 16,
   "metadata": {},
   "outputs": [
    {
     "data": {
      "text/html": [
       "<div>\n",
       "<style scoped>\n",
       "    .dataframe tbody tr th:only-of-type {\n",
       "        vertical-align: middle;\n",
       "    }\n",
       "\n",
       "    .dataframe tbody tr th {\n",
       "        vertical-align: top;\n",
       "    }\n",
       "\n",
       "    .dataframe thead th {\n",
       "        text-align: right;\n",
       "    }\n",
       "</style>\n",
       "<table border=\"1\" class=\"dataframe\">\n",
       "  <thead>\n",
       "    <tr style=\"text-align: right;\">\n",
       "      <th></th>\n",
       "      <th>assets</th>\n",
       "    </tr>\n",
       "  </thead>\n",
       "  <tbody>\n",
       "    <tr>\n",
       "      <th>Crypto</th>\n",
       "      <td>38053.618</td>\n",
       "    </tr>\n",
       "    <tr>\n",
       "      <th>Shares</th>\n",
       "      <td>39862.000</td>\n",
       "    </tr>\n",
       "  </tbody>\n",
       "</table>\n",
       "</div>"
      ],
      "text/plain": [
       "           assets\n",
       "Crypto  38053.618\n",
       "Shares  39862.000"
      ]
     },
     "metadata": {},
     "output_type": "display_data"
    }
   ],
   "source": [
    "# Set monthly household income\n",
    "monthly_income = 12000\n",
    "\n",
    "# Consolidate financial assets data\n",
    "savings = {\"assets\":[crypto_total, shares_total]}\n",
    "\n",
    "# Create savings DataFrame\n",
    "savings_df = pd.DataFrame(savings, index=['Crypto', 'Shares'])\n",
    "\n",
    "# Display savings DataFrame\n",
    "display(savings_df)"
   ]
  },
  {
   "cell_type": "code",
   "execution_count": 17,
   "metadata": {},
   "outputs": [
    {
     "data": {
      "text/plain": [
       "array([<AxesSubplot:ylabel='assets'>], dtype=object)"
      ]
     },
     "execution_count": 17,
     "metadata": {},
     "output_type": "execute_result"
    },
    {
     "data": {
      "image/png": "[encoded data removed]",
      "text/plain": [
       "<Figure size 432x288 with 1 Axes>"
      ]
     },
     "metadata": {},
     "output_type": "display_data"
    }
   ],
   "source": [
    "# Plot savings pie chart\n",
    "savings_df.plot(kind=\"pie\", subplots=True)"
   ]
  },
  {
   "cell_type": "code",
   "execution_count": 18,
   "metadata": {},
   "outputs": [
    {
     "name": "stdout",
     "output_type": "stream",
     "text": [
      "Congratulations! You have more than enough in savings\n"
     ]
    }
   ],
   "source": [
    "# Set ideal emergency fund\n",
    "emergency_fund = monthly_income * 3\n",
    "\n",
    "# Calculate total amount of savings\n",
    "total_savings = float(savings_df.sum())\n",
    "difference = emergency_fund - total_savings\n",
    "# Validate saving health\n",
    "if total_savings > emergency_fund:\n",
    "    print(\"Congratulations! You have more than enough in savings!\")\n",
    "elif total_savings == emergency_fund:\n",
    "    print(\"Congratulations! You have just enough in savings!\")\n",
    "else:\n",
    "    print(f\"You need {difference} to become financially set!\")"
   ]
  },
  {
   "cell_type": "markdown",
   "metadata": {},
   "source": [
    "## Part 2 - Retirement Planning\n",
    "\n",
    "### Monte Carlo Simulation"
   ]
  },
  {
   "cell_type": "code",
   "execution_count": 27,
   "metadata": {},
   "outputs": [],
   "source": [
    "# Set start and end dates of five years back from today.\n",
    "# Sample results may vary from the solution based on the time frame chosen\n",
    "start_date = pd.Timestamp('2017-08-17', tz='America/New_York').isoformat()\n",
    "end_date = pd.Timestamp('2022-08-17', tz='America/New_York').isoformat()"
   ]
  },
  {
   "cell_type": "code",
   "execution_count": 40,
   "metadata": {},
   "outputs": [
    {
     "data": {
      "text/html": [
       "<div>\n",
       "<style scoped>\n",
       "    .dataframe tbody tr th:only-of-type {\n",
       "        vertical-align: middle;\n",
       "    }\n",
       "\n",
       "    .dataframe tbody tr th {\n",
       "        vertical-align: top;\n",
       "    }\n",
       "\n",
       "    .dataframe thead tr th {\n",
       "        text-align: left;\n",
       "    }\n",
       "\n",
       "    .dataframe thead tr:last-of-type th {\n",
       "        text-align: right;\n",
       "    }\n",
       "</style>\n",
       "<table border=\"1\" class=\"dataframe\">\n",
       "  <thead>\n",
       "    <tr>\n",
       "      <th></th>\n",
       "      <th colspan=\"7\" halign=\"left\">AGG</th>\n",
       "      <th colspan=\"7\" halign=\"left\">SPY</th>\n",
       "    </tr>\n",
       "    <tr>\n",
       "      <th></th>\n",
       "      <th>open</th>\n",
       "      <th>high</th>\n",
       "      <th>low</th>\n",
       "      <th>close</th>\n",
       "      <th>volume</th>\n",
       "      <th>trade_count</th>\n",
       "      <th>vwap</th>\n",
       "      <th>open</th>\n",
       "      <th>high</th>\n",
       "      <th>low</th>\n",
       "      <th>close</th>\n",
       "      <th>volume</th>\n",
       "      <th>trade_count</th>\n",
       "      <th>vwap</th>\n",
       "    </tr>\n",
       "    <tr>\n",
       "      <th>timestamp</th>\n",
       "      <th></th>\n",
       "      <th></th>\n",
       "      <th></th>\n",
       "      <th></th>\n",
       "      <th></th>\n",
       "      <th></th>\n",
       "      <th></th>\n",
       "      <th></th>\n",
       "      <th></th>\n",
       "      <th></th>\n",
       "      <th></th>\n",
       "      <th></th>\n",
       "      <th></th>\n",
       "      <th></th>\n",
       "    </tr>\n",
       "  </thead>\n",
       "  <tbody>\n",
       "    <tr>\n",
       "      <th>2017-08-17 04:00:00+00:00</th>\n",
       "      <td>109.83</td>\n",
       "      <td>110.02</td>\n",
       "      <td>109.78</td>\n",
       "      <td>110.02</td>\n",
       "      <td>5403527</td>\n",
       "      <td>10956</td>\n",
       "      <td>109.943594</td>\n",
       "      <td>246.26</td>\n",
       "      <td>246.600</td>\n",
       "      <td>243.09</td>\n",
       "      <td>243.09</td>\n",
       "      <td>128100396</td>\n",
       "      <td>428148</td>\n",
       "      <td>244.766670</td>\n",
       "    </tr>\n",
       "    <tr>\n",
       "      <th>2017-08-18 04:00:00+00:00</th>\n",
       "      <td>110.05</td>\n",
       "      <td>110.14</td>\n",
       "      <td>109.89</td>\n",
       "      <td>109.95</td>\n",
       "      <td>1564794</td>\n",
       "      <td>7827</td>\n",
       "      <td>109.993232</td>\n",
       "      <td>242.95</td>\n",
       "      <td>244.189</td>\n",
       "      <td>242.20</td>\n",
       "      <td>242.71</td>\n",
       "      <td>136747986</td>\n",
       "      <td>389140</td>\n",
       "      <td>243.019365</td>\n",
       "    </tr>\n",
       "    <tr>\n",
       "      <th>2017-08-21 04:00:00+00:00</th>\n",
       "      <td>110.01</td>\n",
       "      <td>110.09</td>\n",
       "      <td>109.97</td>\n",
       "      <td>110.03</td>\n",
       "      <td>1717640</td>\n",
       "      <td>7688</td>\n",
       "      <td>110.029578</td>\n",
       "      <td>242.64</td>\n",
       "      <td>243.200</td>\n",
       "      <td>241.83</td>\n",
       "      <td>242.90</td>\n",
       "      <td>65469736</td>\n",
       "      <td>231509</td>\n",
       "      <td>242.723675</td>\n",
       "    </tr>\n",
       "    <tr>\n",
       "      <th>2017-08-22 04:00:00+00:00</th>\n",
       "      <td>109.99</td>\n",
       "      <td>110.02</td>\n",
       "      <td>109.87</td>\n",
       "      <td>109.93</td>\n",
       "      <td>1992321</td>\n",
       "      <td>8252</td>\n",
       "      <td>109.929751</td>\n",
       "      <td>243.60</td>\n",
       "      <td>245.620</td>\n",
       "      <td>243.55</td>\n",
       "      <td>245.44</td>\n",
       "      <td>63140101</td>\n",
       "      <td>225770</td>\n",
       "      <td>244.835231</td>\n",
       "    </tr>\n",
       "    <tr>\n",
       "      <th>2017-08-23 04:00:00+00:00</th>\n",
       "      <td>110.08</td>\n",
       "      <td>110.19</td>\n",
       "      <td>110.01</td>\n",
       "      <td>110.18</td>\n",
       "      <td>1894934</td>\n",
       "      <td>10186</td>\n",
       "      <td>110.092715</td>\n",
       "      <td>244.34</td>\n",
       "      <td>245.050</td>\n",
       "      <td>244.16</td>\n",
       "      <td>244.56</td>\n",
       "      <td>50203837</td>\n",
       "      <td>162095</td>\n",
       "      <td>244.690966</td>\n",
       "    </tr>\n",
       "  </tbody>\n",
       "</table>\n",
       "</div>"
      ],
      "text/plain": [
       "                              AGG                                   \\\n",
       "                             open    high     low   close   volume   \n",
       "timestamp                                                            \n",
       "2017-08-17 04:00:00+00:00  109.83  110.02  109.78  110.02  5403527   \n",
       "2017-08-18 04:00:00+00:00  110.05  110.14  109.89  109.95  1564794   \n",
       "2017-08-21 04:00:00+00:00  110.01  110.09  109.97  110.03  1717640   \n",
       "2017-08-22 04:00:00+00:00  109.99  110.02  109.87  109.93  1992321   \n",
       "2017-08-23 04:00:00+00:00  110.08  110.19  110.01  110.18  1894934   \n",
       "\n",
       "                                                      SPY                   \\\n",
       "                          trade_count        vwap    open     high     low   \n",
       "timestamp                                                                    \n",
       "2017-08-17 04:00:00+00:00       10956  109.943594  246.26  246.600  243.09   \n",
       "2017-08-18 04:00:00+00:00        7827  109.993232  242.95  244.189  242.20   \n",
       "2017-08-21 04:00:00+00:00        7688  110.029578  242.64  243.200  241.83   \n",
       "2017-08-22 04:00:00+00:00        8252  109.929751  243.60  245.620  243.55   \n",
       "2017-08-23 04:00:00+00:00       10186  110.092715  244.34  245.050  244.16   \n",
       "\n",
       "                                                                      \n",
       "                            close     volume trade_count        vwap  \n",
       "timestamp                                                             \n",
       "2017-08-17 04:00:00+00:00  243.09  128100396      428148  244.766670  \n",
       "2017-08-18 04:00:00+00:00  242.71  136747986      389140  243.019365  \n",
       "2017-08-21 04:00:00+00:00  242.90   65469736      231509  242.723675  \n",
       "2017-08-22 04:00:00+00:00  245.44   63140101      225770  244.835231  \n",
       "2017-08-23 04:00:00+00:00  244.56   50203837      162095  244.690966  "
      ]
     },
     "execution_count": 40,
     "metadata": {},
     "output_type": "execute_result"
    }
   ],
   "source": [
    "# Get 5 years' worth of historical data for SPY and AGG\n",
    "ticker = [\"AGG\", \"SPY\"]\n",
    "timeframe = \"1Day\"\n",
    "five_year_data = alpaca.get_bars(\n",
    "    ticker,\n",
    "    timeframe,\n",
    "    start=start_date,\n",
    "    end=end_date\n",
    ").df\n",
    "\n",
    "# Reorganize the DataFrame\n",
    "# Separate ticker data\n",
    "AGG = five_year_data[five_year_data['symbol']=='AGG'].drop('symbol', axis=1)\n",
    "SPY = five_year_data[five_year_data['symbol']=='SPY'].drop('symbol', axis=1)\n",
    "\n",
    "# Concatenate the ticker DataFrames\n",
    "five_year_df = pd.concat([AGG, SPY], axis=1, keys=['AGG', 'SPY']).dropna()\n",
    "\n",
    "# Display sample data\n",
    "five_year_df.head()"
   ]
  },
  {
   "cell_type": "code",
   "execution_count": 42,
   "metadata": {},
   "outputs": [],
   "source": [
    "# Configuring a Monte Carlo simulation to forecast 30 years cumulative returns\n",
    "num_sims = 500\n",
    "num_yrs = 30\n",
    "weights = [0.4,0.6]\n",
    "MC_returns = MCSimulation(\n",
    "                portfolio_data = five_year_df,\n",
    "                weights = weights,\n",
    "                num_simulation = num_sims,\n",
    "                num_trading_days = 252*num_yrs)"
   ]
  },
  {
   "cell_type": "code",
   "execution_count": 43,
   "metadata": {},
   "outputs": [
    {
     "data": {
      "text/html": [
       "<div>\n",
       "<style scoped>\n",
       "    .dataframe tbody tr th:only-of-type {\n",
       "        vertical-align: middle;\n",
       "    }\n",
       "\n",
       "    .dataframe tbody tr th {\n",
       "        vertical-align: top;\n",
       "    }\n",
       "\n",
       "    .dataframe thead tr th {\n",
       "        text-align: left;\n",
       "    }\n",
       "\n",
       "    .dataframe thead tr:last-of-type th {\n",
       "        text-align: right;\n",
       "    }\n",
       "</style>\n",
       "<table border=\"1\" class=\"dataframe\">\n",
       "  <thead>\n",
       "    <tr>\n",
       "      <th></th>\n",
       "      <th colspan=\"8\" halign=\"left\">AGG</th>\n",
       "      <th colspan=\"8\" halign=\"left\">SPY</th>\n",
       "    </tr>\n",
       "    <tr>\n",
       "      <th></th>\n",
       "      <th>open</th>\n",
       "      <th>high</th>\n",
       "      <th>low</th>\n",
       "      <th>close</th>\n",
       "      <th>volume</th>\n",
       "      <th>trade_count</th>\n",
       "      <th>vwap</th>\n",
       "      <th>daily_return</th>\n",
       "      <th>open</th>\n",
       "      <th>high</th>\n",
       "      <th>low</th>\n",
       "      <th>close</th>\n",
       "      <th>volume</th>\n",
       "      <th>trade_count</th>\n",
       "      <th>vwap</th>\n",
       "      <th>daily_return</th>\n",
       "    </tr>\n",
       "    <tr>\n",
       "      <th>timestamp</th>\n",
       "      <th></th>\n",
       "      <th></th>\n",
       "      <th></th>\n",
       "      <th></th>\n",
       "      <th></th>\n",
       "      <th></th>\n",
       "      <th></th>\n",
       "      <th></th>\n",
       "      <th></th>\n",
       "      <th></th>\n",
       "      <th></th>\n",
       "      <th></th>\n",
       "      <th></th>\n",
       "      <th></th>\n",
       "      <th></th>\n",
       "      <th></th>\n",
       "    </tr>\n",
       "  </thead>\n",
       "  <tbody>\n",
       "    <tr>\n",
       "      <th>2017-08-17 04:00:00+00:00</th>\n",
       "      <td>109.83</td>\n",
       "      <td>110.02</td>\n",
       "      <td>109.78</td>\n",
       "      <td>110.02</td>\n",
       "      <td>5403527</td>\n",
       "      <td>10956</td>\n",
       "      <td>109.943594</td>\n",
       "      <td>NaN</td>\n",
       "      <td>246.26</td>\n",
       "      <td>246.600</td>\n",
       "      <td>243.09</td>\n",
       "      <td>243.09</td>\n",
       "      <td>128100396</td>\n",
       "      <td>428148</td>\n",
       "      <td>244.766670</td>\n",
       "      <td>NaN</td>\n",
       "    </tr>\n",
       "    <tr>\n",
       "      <th>2017-08-18 04:00:00+00:00</th>\n",
       "      <td>110.05</td>\n",
       "      <td>110.14</td>\n",
       "      <td>109.89</td>\n",
       "      <td>109.95</td>\n",
       "      <td>1564794</td>\n",
       "      <td>7827</td>\n",
       "      <td>109.993232</td>\n",
       "      <td>-0.000636</td>\n",
       "      <td>242.95</td>\n",
       "      <td>244.189</td>\n",
       "      <td>242.20</td>\n",
       "      <td>242.71</td>\n",
       "      <td>136747986</td>\n",
       "      <td>389140</td>\n",
       "      <td>243.019365</td>\n",
       "      <td>-0.001563</td>\n",
       "    </tr>\n",
       "    <tr>\n",
       "      <th>2017-08-21 04:00:00+00:00</th>\n",
       "      <td>110.01</td>\n",
       "      <td>110.09</td>\n",
       "      <td>109.97</td>\n",
       "      <td>110.03</td>\n",
       "      <td>1717640</td>\n",
       "      <td>7688</td>\n",
       "      <td>110.029578</td>\n",
       "      <td>0.000728</td>\n",
       "      <td>242.64</td>\n",
       "      <td>243.200</td>\n",
       "      <td>241.83</td>\n",
       "      <td>242.90</td>\n",
       "      <td>65469736</td>\n",
       "      <td>231509</td>\n",
       "      <td>242.723675</td>\n",
       "      <td>0.000783</td>\n",
       "    </tr>\n",
       "    <tr>\n",
       "      <th>2017-08-22 04:00:00+00:00</th>\n",
       "      <td>109.99</td>\n",
       "      <td>110.02</td>\n",
       "      <td>109.87</td>\n",
       "      <td>109.93</td>\n",
       "      <td>1992321</td>\n",
       "      <td>8252</td>\n",
       "      <td>109.929751</td>\n",
       "      <td>-0.000909</td>\n",
       "      <td>243.60</td>\n",
       "      <td>245.620</td>\n",
       "      <td>243.55</td>\n",
       "      <td>245.44</td>\n",
       "      <td>63140101</td>\n",
       "      <td>225770</td>\n",
       "      <td>244.835231</td>\n",
       "      <td>0.010457</td>\n",
       "    </tr>\n",
       "    <tr>\n",
       "      <th>2017-08-23 04:00:00+00:00</th>\n",
       "      <td>110.08</td>\n",
       "      <td>110.19</td>\n",
       "      <td>110.01</td>\n",
       "      <td>110.18</td>\n",
       "      <td>1894934</td>\n",
       "      <td>10186</td>\n",
       "      <td>110.092715</td>\n",
       "      <td>0.002274</td>\n",
       "      <td>244.34</td>\n",
       "      <td>245.050</td>\n",
       "      <td>244.16</td>\n",
       "      <td>244.56</td>\n",
       "      <td>50203837</td>\n",
       "      <td>162095</td>\n",
       "      <td>244.690966</td>\n",
       "      <td>-0.003585</td>\n",
       "    </tr>\n",
       "  </tbody>\n",
       "</table>\n",
       "</div>"
      ],
      "text/plain": [
       "                              AGG                                   \\\n",
       "                             open    high     low   close   volume   \n",
       "timestamp                                                            \n",
       "2017-08-17 04:00:00+00:00  109.83  110.02  109.78  110.02  5403527   \n",
       "2017-08-18 04:00:00+00:00  110.05  110.14  109.89  109.95  1564794   \n",
       "2017-08-21 04:00:00+00:00  110.01  110.09  109.97  110.03  1717640   \n",
       "2017-08-22 04:00:00+00:00  109.99  110.02  109.87  109.93  1992321   \n",
       "2017-08-23 04:00:00+00:00  110.08  110.19  110.01  110.18  1894934   \n",
       "\n",
       "                                                                   SPY  \\\n",
       "                          trade_count        vwap daily_return    open   \n",
       "timestamp                                                                \n",
       "2017-08-17 04:00:00+00:00       10956  109.943594          NaN  246.26   \n",
       "2017-08-18 04:00:00+00:00        7827  109.993232    -0.000636  242.95   \n",
       "2017-08-21 04:00:00+00:00        7688  110.029578     0.000728  242.64   \n",
       "2017-08-22 04:00:00+00:00        8252  109.929751    -0.000909  243.60   \n",
       "2017-08-23 04:00:00+00:00       10186  110.092715     0.002274  244.34   \n",
       "\n",
       "                                                                           \\\n",
       "                              high     low   close     volume trade_count   \n",
       "timestamp                                                                   \n",
       "2017-08-17 04:00:00+00:00  246.600  243.09  243.09  128100396      428148   \n",
       "2017-08-18 04:00:00+00:00  244.189  242.20  242.71  136747986      389140   \n",
       "2017-08-21 04:00:00+00:00  243.200  241.83  242.90   65469736      231509   \n",
       "2017-08-22 04:00:00+00:00  245.620  243.55  245.44   63140101      225770   \n",
       "2017-08-23 04:00:00+00:00  245.050  244.16  244.56   50203837      162095   \n",
       "\n",
       "                                                    \n",
       "                                 vwap daily_return  \n",
       "timestamp                                           \n",
       "2017-08-17 04:00:00+00:00  244.766670          NaN  \n",
       "2017-08-18 04:00:00+00:00  243.019365    -0.001563  \n",
       "2017-08-21 04:00:00+00:00  242.723675     0.000783  \n",
       "2017-08-22 04:00:00+00:00  244.835231     0.010457  \n",
       "2017-08-23 04:00:00+00:00  244.690966    -0.003585  "
      ]
     },
     "execution_count": 43,
     "metadata": {},
     "output_type": "execute_result"
    }
   ],
   "source": [
    "# Printing the simulation input data\n",
    "MC_returns.portfolio_data.head()"
   ]
  },
  {
   "cell_type": "code",
   "execution_count": 45,
   "metadata": {},
   "outputs": [
    {
     "name": "stdout",
     "output_type": "stream",
     "text": [
      "Running Monte Carlo simulation number 0.\n",
      "Running Monte Carlo simulation number 10.\n",
      "Running Monte Carlo simulation number 20.\n",
      "Running Monte Carlo simulation number 30.\n",
      "Running Monte Carlo simulation number 40.\n",
      "Running Monte Carlo simulation number 50.\n",
      "Running Monte Carlo simulation number 60.\n",
      "Running Monte Carlo simulation number 70.\n",
      "Running Monte Carlo simulation number 80.\n",
      "Running Monte Carlo simulation number 90.\n",
      "Running Monte Carlo simulation number 100.\n"
     ]
    },
    {
     "name": "stderr",
     "output_type": "stream",
     "text": [
      "/Users/hunterspence/Desktop/FinTech_Etc/Challenge_5/Starter_Code/MCForecastTools.py:117: PerformanceWarning: DataFrame is highly fragmented.  This is usually the result of calling `frame.insert` many times, which has poor performance.  Consider joining all columns at once using pd.concat(axis=1) instead.  To get a de-fragmented frame, use `newframe = frame.copy()`\n",
      "  portfolio_cumulative_returns[n] = (1 + sim_df.fillna(0)).cumprod()\n"
     ]
    },
    {
     "name": "stdout",
     "output_type": "stream",
     "text": [
      "Running Monte Carlo simulation number 110.\n",
      "Running Monte Carlo simulation number 120.\n",
      "Running Monte Carlo simulation number 130.\n",
      "Running Monte Carlo simulation number 140.\n",
      "Running Monte Carlo simulation number 150.\n",
      "Running Monte Carlo simulation number 160.\n",
      "Running Monte Carlo simulation number 170.\n",
      "Running Monte Carlo simulation number 180.\n",
      "Running Monte Carlo simulation number 190.\n",
      "Running Monte Carlo simulation number 200.\n",
      "Running Monte Carlo simulation number 210.\n",
      "Running Monte Carlo simulation number 220.\n",
      "Running Monte Carlo simulation number 230.\n",
      "Running Monte Carlo simulation number 240.\n",
      "Running Monte Carlo simulation number 250.\n",
      "Running Monte Carlo simulation number 260.\n",
      "Running Monte Carlo simulation number 270.\n",
      "Running Monte Carlo simulation number 280.\n",
      "Running Monte Carlo simulation number 290.\n",
      "Running Monte Carlo simulation number 300.\n",
      "Running Monte Carlo simulation number 310.\n",
      "Running Monte Carlo simulation number 320.\n",
      "Running Monte Carlo simulation number 330.\n",
      "Running Monte Carlo simulation number 340.\n",
      "Running Monte Carlo simulation number 350.\n",
      "Running Monte Carlo simulation number 360.\n",
      "Running Monte Carlo simulation number 370.\n",
      "Running Monte Carlo simulation number 380.\n",
      "Running Monte Carlo simulation number 390.\n",
      "Running Monte Carlo simulation number 400.\n",
      "Running Monte Carlo simulation number 410.\n",
      "Running Monte Carlo simulation number 420.\n",
      "Running Monte Carlo simulation number 430.\n",
      "Running Monte Carlo simulation number 440.\n",
      "Running Monte Carlo simulation number 450.\n",
      "Running Monte Carlo simulation number 460.\n",
      "Running Monte Carlo simulation number 470.\n",
      "Running Monte Carlo simulation number 480.\n",
      "Running Monte Carlo simulation number 490.\n"
     ]
    },
    {
     "data": {
      "text/html": [
       "<div>\n",
       "<style scoped>\n",
       "    .dataframe tbody tr th:only-of-type {\n",
       "        vertical-align: middle;\n",
       "    }\n",
       "\n",
       "    .dataframe tbody tr th {\n",
       "        vertical-align: top;\n",
       "    }\n",
       "\n",
       "    .dataframe thead th {\n",
       "        text-align: right;\n",
       "    }\n",
       "</style>\n",
       "<table border=\"1\" class=\"dataframe\">\n",
       "  <thead>\n",
       "    <tr style=\"text-align: right;\">\n",
       "      <th></th>\n",
       "      <th>0</th>\n",
       "      <th>1</th>\n",
       "      <th>2</th>\n",
       "      <th>3</th>\n",
       "      <th>4</th>\n",
       "      <th>5</th>\n",
       "      <th>6</th>\n",
       "      <th>7</th>\n",
       "      <th>8</th>\n",
       "      <th>9</th>\n",
       "      <th>...</th>\n",
       "      <th>490</th>\n",
       "      <th>491</th>\n",
       "      <th>492</th>\n",
       "      <th>493</th>\n",
       "      <th>494</th>\n",
       "      <th>495</th>\n",
       "      <th>496</th>\n",
       "      <th>497</th>\n",
       "      <th>498</th>\n",
       "      <th>499</th>\n",
       "    </tr>\n",
       "  </thead>\n",
       "  <tbody>\n",
       "    <tr>\n",
       "      <th>0</th>\n",
       "      <td>1.000000</td>\n",
       "      <td>1.000000</td>\n",
       "      <td>1.000000</td>\n",
       "      <td>1.000000</td>\n",
       "      <td>1.000000</td>\n",
       "      <td>1.000000</td>\n",
       "      <td>1.000000</td>\n",
       "      <td>1.000000</td>\n",
       "      <td>1.000000</td>\n",
       "      <td>1.000000</td>\n",
       "      <td>...</td>\n",
       "      <td>1.000000</td>\n",
       "      <td>1.000000</td>\n",
       "      <td>1.000000</td>\n",
       "      <td>1.000000</td>\n",
       "      <td>1.000000</td>\n",
       "      <td>1.000000</td>\n",
       "      <td>1.000000</td>\n",
       "      <td>1.000000</td>\n",
       "      <td>1.000000</td>\n",
       "      <td>1.000000</td>\n",
       "    </tr>\n",
       "    <tr>\n",
       "      <th>1</th>\n",
       "      <td>0.998349</td>\n",
       "      <td>1.012199</td>\n",
       "      <td>1.000794</td>\n",
       "      <td>0.995839</td>\n",
       "      <td>0.996009</td>\n",
       "      <td>0.999449</td>\n",
       "      <td>0.993860</td>\n",
       "      <td>1.000369</td>\n",
       "      <td>0.992560</td>\n",
       "      <td>1.007962</td>\n",
       "      <td>...</td>\n",
       "      <td>0.986161</td>\n",
       "      <td>0.993397</td>\n",
       "      <td>1.017034</td>\n",
       "      <td>0.999470</td>\n",
       "      <td>0.994436</td>\n",
       "      <td>0.989428</td>\n",
       "      <td>0.996944</td>\n",
       "      <td>0.997651</td>\n",
       "      <td>0.994473</td>\n",
       "      <td>0.999808</td>\n",
       "    </tr>\n",
       "    <tr>\n",
       "      <th>2</th>\n",
       "      <td>1.001415</td>\n",
       "      <td>1.025222</td>\n",
       "      <td>0.999608</td>\n",
       "      <td>0.999786</td>\n",
       "      <td>0.994801</td>\n",
       "      <td>0.991237</td>\n",
       "      <td>1.006026</td>\n",
       "      <td>1.002120</td>\n",
       "      <td>0.991446</td>\n",
       "      <td>0.996579</td>\n",
       "      <td>...</td>\n",
       "      <td>0.978468</td>\n",
       "      <td>0.991338</td>\n",
       "      <td>1.012835</td>\n",
       "      <td>1.002313</td>\n",
       "      <td>0.994030</td>\n",
       "      <td>0.990198</td>\n",
       "      <td>0.991740</td>\n",
       "      <td>0.977787</td>\n",
       "      <td>0.996999</td>\n",
       "      <td>0.998533</td>\n",
       "    </tr>\n",
       "    <tr>\n",
       "      <th>3</th>\n",
       "      <td>1.000914</td>\n",
       "      <td>1.026758</td>\n",
       "      <td>0.993626</td>\n",
       "      <td>1.003611</td>\n",
       "      <td>0.994045</td>\n",
       "      <td>0.992430</td>\n",
       "      <td>1.003383</td>\n",
       "      <td>1.009510</td>\n",
       "      <td>0.984367</td>\n",
       "      <td>1.003252</td>\n",
       "      <td>...</td>\n",
       "      <td>0.985476</td>\n",
       "      <td>0.998399</td>\n",
       "      <td>1.001101</td>\n",
       "      <td>0.992622</td>\n",
       "      <td>0.995929</td>\n",
       "      <td>1.001665</td>\n",
       "      <td>0.986997</td>\n",
       "      <td>0.985634</td>\n",
       "      <td>0.997346</td>\n",
       "      <td>1.000972</td>\n",
       "    </tr>\n",
       "    <tr>\n",
       "      <th>4</th>\n",
       "      <td>0.993475</td>\n",
       "      <td>1.028518</td>\n",
       "      <td>0.987270</td>\n",
       "      <td>1.012802</td>\n",
       "      <td>1.010076</td>\n",
       "      <td>0.975595</td>\n",
       "      <td>1.004299</td>\n",
       "      <td>1.004044</td>\n",
       "      <td>0.985384</td>\n",
       "      <td>1.011719</td>\n",
       "      <td>...</td>\n",
       "      <td>0.984475</td>\n",
       "      <td>1.001550</td>\n",
       "      <td>1.027091</td>\n",
       "      <td>1.000804</td>\n",
       "      <td>0.989909</td>\n",
       "      <td>1.010564</td>\n",
       "      <td>0.985620</td>\n",
       "      <td>0.991922</td>\n",
       "      <td>0.994382</td>\n",
       "      <td>1.005905</td>\n",
       "    </tr>\n",
       "    <tr>\n",
       "      <th>...</th>\n",
       "      <td>...</td>\n",
       "      <td>...</td>\n",
       "      <td>...</td>\n",
       "      <td>...</td>\n",
       "      <td>...</td>\n",
       "      <td>...</td>\n",
       "      <td>...</td>\n",
       "      <td>...</td>\n",
       "      <td>...</td>\n",
       "      <td>...</td>\n",
       "      <td>...</td>\n",
       "      <td>...</td>\n",
       "      <td>...</td>\n",
       "      <td>...</td>\n",
       "      <td>...</td>\n",
       "      <td>...</td>\n",
       "      <td>...</td>\n",
       "      <td>...</td>\n",
       "      <td>...</td>\n",
       "      <td>...</td>\n",
       "      <td>...</td>\n",
       "    </tr>\n",
       "    <tr>\n",
       "      <th>7556</th>\n",
       "      <td>15.208427</td>\n",
       "      <td>10.544568</td>\n",
       "      <td>6.817037</td>\n",
       "      <td>7.877908</td>\n",
       "      <td>6.110029</td>\n",
       "      <td>13.547928</td>\n",
       "      <td>35.935641</td>\n",
       "      <td>9.077420</td>\n",
       "      <td>5.819454</td>\n",
       "      <td>5.513570</td>\n",
       "      <td>...</td>\n",
       "      <td>7.131410</td>\n",
       "      <td>3.625016</td>\n",
       "      <td>29.951333</td>\n",
       "      <td>10.048181</td>\n",
       "      <td>3.444619</td>\n",
       "      <td>7.538803</td>\n",
       "      <td>7.453870</td>\n",
       "      <td>9.493279</td>\n",
       "      <td>6.511666</td>\n",
       "      <td>8.808195</td>\n",
       "    </tr>\n",
       "    <tr>\n",
       "      <th>7557</th>\n",
       "      <td>15.029339</td>\n",
       "      <td>10.581583</td>\n",
       "      <td>6.776060</td>\n",
       "      <td>7.805720</td>\n",
       "      <td>6.142271</td>\n",
       "      <td>13.519175</td>\n",
       "      <td>36.524268</td>\n",
       "      <td>8.935966</td>\n",
       "      <td>5.879488</td>\n",
       "      <td>5.543028</td>\n",
       "      <td>...</td>\n",
       "      <td>7.166468</td>\n",
       "      <td>3.630176</td>\n",
       "      <td>29.836978</td>\n",
       "      <td>9.917014</td>\n",
       "      <td>3.423158</td>\n",
       "      <td>7.426608</td>\n",
       "      <td>7.484699</td>\n",
       "      <td>9.588834</td>\n",
       "      <td>6.529121</td>\n",
       "      <td>8.937084</td>\n",
       "    </tr>\n",
       "    <tr>\n",
       "      <th>7558</th>\n",
       "      <td>15.222629</td>\n",
       "      <td>10.446831</td>\n",
       "      <td>6.903440</td>\n",
       "      <td>7.791944</td>\n",
       "      <td>6.118989</td>\n",
       "      <td>13.433360</td>\n",
       "      <td>36.666206</td>\n",
       "      <td>8.932029</td>\n",
       "      <td>5.903038</td>\n",
       "      <td>5.528961</td>\n",
       "      <td>...</td>\n",
       "      <td>7.147561</td>\n",
       "      <td>3.617956</td>\n",
       "      <td>30.075448</td>\n",
       "      <td>9.870262</td>\n",
       "      <td>3.460310</td>\n",
       "      <td>7.376816</td>\n",
       "      <td>7.588860</td>\n",
       "      <td>9.618098</td>\n",
       "      <td>6.437396</td>\n",
       "      <td>8.942009</td>\n",
       "    </tr>\n",
       "    <tr>\n",
       "      <th>7559</th>\n",
       "      <td>15.188685</td>\n",
       "      <td>10.423358</td>\n",
       "      <td>6.907681</td>\n",
       "      <td>7.815440</td>\n",
       "      <td>6.047829</td>\n",
       "      <td>13.225813</td>\n",
       "      <td>37.021378</td>\n",
       "      <td>8.974461</td>\n",
       "      <td>5.939015</td>\n",
       "      <td>5.557161</td>\n",
       "      <td>...</td>\n",
       "      <td>7.131568</td>\n",
       "      <td>3.610606</td>\n",
       "      <td>29.550955</td>\n",
       "      <td>9.921475</td>\n",
       "      <td>3.463607</td>\n",
       "      <td>7.347736</td>\n",
       "      <td>7.537942</td>\n",
       "      <td>9.626075</td>\n",
       "      <td>6.422685</td>\n",
       "      <td>8.897019</td>\n",
       "    </tr>\n",
       "    <tr>\n",
       "      <th>7560</th>\n",
       "      <td>15.109742</td>\n",
       "      <td>10.482803</td>\n",
       "      <td>6.920158</td>\n",
       "      <td>7.844774</td>\n",
       "      <td>6.148399</td>\n",
       "      <td>13.318368</td>\n",
       "      <td>36.584029</td>\n",
       "      <td>9.001244</td>\n",
       "      <td>5.970870</td>\n",
       "      <td>5.548267</td>\n",
       "      <td>...</td>\n",
       "      <td>7.100771</td>\n",
       "      <td>3.620372</td>\n",
       "      <td>29.888763</td>\n",
       "      <td>9.852185</td>\n",
       "      <td>3.408816</td>\n",
       "      <td>7.388053</td>\n",
       "      <td>7.607055</td>\n",
       "      <td>9.771522</td>\n",
       "      <td>6.334156</td>\n",
       "      <td>9.040942</td>\n",
       "    </tr>\n",
       "  </tbody>\n",
       "</table>\n",
       "<p>7561 rows × 500 columns</p>\n",
       "</div>"
      ],
      "text/plain": [
       "            0          1         2         3         4          5    \\\n",
       "0      1.000000   1.000000  1.000000  1.000000  1.000000   1.000000   \n",
       "1      0.998349   1.012199  1.000794  0.995839  0.996009   0.999449   \n",
       "2      1.001415   1.025222  0.999608  0.999786  0.994801   0.991237   \n",
       "3      1.000914   1.026758  0.993626  1.003611  0.994045   0.992430   \n",
       "4      0.993475   1.028518  0.987270  1.012802  1.010076   0.975595   \n",
       "...         ...        ...       ...       ...       ...        ...   \n",
       "7556  15.208427  10.544568  6.817037  7.877908  6.110029  13.547928   \n",
       "7557  15.029339  10.581583  6.776060  7.805720  6.142271  13.519175   \n",
       "7558  15.222629  10.446831  6.903440  7.791944  6.118989  13.433360   \n",
       "7559  15.188685  10.423358  6.907681  7.815440  6.047829  13.225813   \n",
       "7560  15.109742  10.482803  6.920158  7.844774  6.148399  13.318368   \n",
       "\n",
       "            6         7         8         9    ...       490       491  \\\n",
       "0      1.000000  1.000000  1.000000  1.000000  ...  1.000000  1.000000   \n",
       "1      0.993860  1.000369  0.992560  1.007962  ...  0.986161  0.993397   \n",
       "2      1.006026  1.002120  0.991446  0.996579  ...  0.978468  0.991338   \n",
       "3      1.003383  1.009510  0.984367  1.003252  ...  0.985476  0.998399   \n",
       "4      1.004299  1.004044  0.985384  1.011719  ...  0.984475  1.001550   \n",
       "...         ...       ...       ...       ...  ...       ...       ...   \n",
       "7556  35.935641  9.077420  5.819454  5.513570  ...  7.131410  3.625016   \n",
       "7557  36.524268  8.935966  5.879488  5.543028  ...  7.166468  3.630176   \n",
       "7558  36.666206  8.932029  5.903038  5.528961  ...  7.147561  3.617956   \n",
       "7559  37.021378  8.974461  5.939015  5.557161  ...  7.131568  3.610606   \n",
       "7560  36.584029  9.001244  5.970870  5.548267  ...  7.100771  3.620372   \n",
       "\n",
       "            492        493       494       495       496       497       498  \\\n",
       "0      1.000000   1.000000  1.000000  1.000000  1.000000  1.000000  1.000000   \n",
       "1      1.017034   0.999470  0.994436  0.989428  0.996944  0.997651  0.994473   \n",
       "2      1.012835   1.002313  0.994030  0.990198  0.991740  0.977787  0.996999   \n",
       "3      1.001101   0.992622  0.995929  1.001665  0.986997  0.985634  0.997346   \n",
       "4      1.027091   1.000804  0.989909  1.010564  0.985620  0.991922  0.994382   \n",
       "...         ...        ...       ...       ...       ...       ...       ...   \n",
       "7556  29.951333  10.048181  3.444619  7.538803  7.453870  9.493279  6.511666   \n",
       "7557  29.836978   9.917014  3.423158  7.426608  7.484699  9.588834  6.529121   \n",
       "7558  30.075448   9.870262  3.460310  7.376816  7.588860  9.618098  6.437396   \n",
       "7559  29.550955   9.921475  3.463607  7.347736  7.537942  9.626075  6.422685   \n",
       "7560  29.888763   9.852185  3.408816  7.388053  7.607055  9.771522  6.334156   \n",
       "\n",
       "           499  \n",
       "0     1.000000  \n",
       "1     0.999808  \n",
       "2     0.998533  \n",
       "3     1.000972  \n",
       "4     1.005905  \n",
       "...        ...  \n",
       "7556  8.808195  \n",
       "7557  8.937084  \n",
       "7558  8.942009  \n",
       "7559  8.897019  \n",
       "7560  9.040942  \n",
       "\n",
       "[7561 rows x 500 columns]"
      ]
     },
     "execution_count": 45,
     "metadata": {},
     "output_type": "execute_result"
    }
   ],
   "source": [
    "# Running a Monte Carlo simulation to forecast 30 years cumulative returns\n",
    "MC_returns.calc_cumulative_return()"
   ]
  },
  {
   "cell_type": "code",
   "execution_count": 46,
   "metadata": {},
   "outputs": [
    {
     "data": {
      "text/plain": [
       "<AxesSubplot:title={'center':'500 Simulations of Cumulative Portfolio Return Trajectories Over the Next 7560 Trading Days.'}>"
      ]
     },
     "execution_count": 46,
     "metadata": {},
     "output_type": "execute_result"
    },
    {
     "data": {
      "image/png": "[encoded data removed]",
      "text/plain": [
       "<Figure size 432x288 with 1 Axes>"
      ]
     },
     "metadata": {
      "needs_background": "light"
     },
     "output_type": "display_data"
    }
   ],
   "source": [
    "# Plot simulation outcomes\n",
    "MC_returns.plot_simulation()"
   ]
  },
  {
   "cell_type": "code",
   "execution_count": 48,
   "metadata": {},
   "outputs": [
    {
     "data": {
      "text/plain": [
       "<AxesSubplot:title={'center':'Distribution of Final Cumuluative Returns Across All 500 Simulations'}, ylabel='Frequency'>"
      ]
     },
     "execution_count": 48,
     "metadata": {},
     "output_type": "execute_result"
    },
    {
     "data": {
      "image/png": "[encoded data removed]",
      "text/plain": [
       "<Figure size 432x288 with 1 Axes>"
      ]
     },
     "metadata": {
      "needs_background": "light"
     },
     "output_type": "display_data"
    }
   ],
   "source": [
    "# Plot probability distribution and confidence intervals\n",
    "MC_returns.plot_distribution()"
   ]
  },
  {
   "cell_type": "markdown",
   "metadata": {},
   "source": [
    "### Retirement Analysis"
   ]
  },
  {
   "cell_type": "code",
   "execution_count": 50,
   "metadata": {},
   "outputs": [
    {
     "name": "stdout",
     "output_type": "stream",
     "text": [
      "count           500.000000\n",
      "mean              9.026401\n",
      "std               6.608657\n",
      "min               0.996097\n",
      "25%               4.742559\n",
      "50%               7.274064\n",
      "75%              10.924504\n",
      "max              60.099525\n",
      "95% CI Lower      2.009638\n",
      "95% CI Upper     26.964132\n",
      "Name: 7560, dtype: float64\n"
     ]
    }
   ],
   "source": [
    "# Fetch summary statistics from the Monte Carlo simulation results\n",
    "tbl = MC_returns.summarize_cumulative_return()\n",
    "\n",
    "# Print summary statistics\n",
    "print(tbl)"
   ]
  },
  {
   "cell_type": "markdown",
   "metadata": {},
   "source": [
    "### Calculate the expected portfolio return at the `95%` lower and upper confidence intervals based on a `$20,000` initial investment."
   ]
  },
  {
   "cell_type": "code",
   "execution_count": 51,
   "metadata": {},
   "outputs": [
    {
     "name": "stdout",
     "output_type": "stream",
     "text": [
      "There is a 95% chance that an initial investment of $20000 in the portfolio over the next 30 years will end within in the range of $40192.75 and $539282.63\n"
     ]
    }
   ],
   "source": [
    "# Set initial investment\n",
    "initial_investment = 20000\n",
    "\n",
    "# Use the lower and upper `95%` confidence intervals to calculate the range of the possible outcomes of our $20,000\n",
    "ci_lower = round(tbl[8]*20000,2)\n",
    "ci_upper = round(tbl[9]*20000,2)\n",
    "\n",
    "# Print results\n",
    "print(f\"There is a 95% chance that an initial investment of ${initial_investment} in the portfolio\"\n",
    "      f\" over the next 30 years will end within in the range of\"\n",
    "      f\" ${ci_lower} and ${ci_upper}\")"
   ]
  },
  {
   "cell_type": "markdown",
   "metadata": {},
   "source": [
    "### Calculate the expected portfolio return at the `95%` lower and upper confidence intervals based on a `50%` increase in the initial investment."
   ]
  },
  {
   "cell_type": "code",
   "execution_count": 52,
   "metadata": {},
   "outputs": [
    {
     "name": "stdout",
     "output_type": "stream",
     "text": [
      "There is a 95% chance that an initial investment of $30000.0 in the portfolio over the next 30 years will end within in the range of $60289.13 and $808923.95\n"
     ]
    }
   ],
   "source": [
    "# Set initial investment\n",
    "initial_investment = 20000 * 1.5\n",
    "\n",
    "# Use the lower and upper `95%` confidence intervals to calculate the range of the possible outcomes of our $30,000\n",
    "ci_lower = round(tbl[8]*30000,2)\n",
    "ci_upper = round(tbl[9]*30000,2)\n",
    "\n",
    "# Print results\n",
    "print(f\"There is a 95% chance that an initial investment of ${initial_investment} in the portfolio\"\n",
    "      f\" over the next 30 years will end within in the range of\"\n",
    "      f\" ${ci_lower} and ${ci_upper}\")"
   ]
  },
  {
   "cell_type": "markdown",
   "metadata": {},
   "source": [
    "## Optional Challenge - Early Retirement\n",
    "\n",
    "\n",
    "### Five Years Retirement Option"
   ]
  },
  {
   "cell_type": "code",
   "execution_count": null,
   "metadata": {},
   "outputs": [],
   "source": [
    "# Configuring a Monte Carlo simulation to forecast 5 years cumulative returns\n",
    "# YOUR CODE HERE!"
   ]
  },
  {
   "cell_type": "code",
   "execution_count": null,
   "metadata": {},
   "outputs": [],
   "source": [
    "# Running a Monte Carlo simulation to forecast 5 years cumulative returns\n",
    "# YOUR CODE HERE!"
   ]
  },
  {
   "cell_type": "code",
   "execution_count": null,
   "metadata": {},
   "outputs": [],
   "source": [
    "# Plot simulation outcomes\n",
    "# YOUR CODE HERE!"
   ]
  },
  {
   "cell_type": "code",
   "execution_count": null,
   "metadata": {},
   "outputs": [],
   "source": [
    "# Plot probability distribution and confidence intervals\n",
    "# YOUR CODE HERE!"
   ]
  },
  {
   "cell_type": "code",
   "execution_count": null,
   "metadata": {},
   "outputs": [],
   "source": [
    "# Fetch summary statistics from the Monte Carlo simulation results\n",
    "# YOUR CODE HERE!\n",
    "\n",
    "# Print summary statistics\n",
    "# YOUR CODE HERE!"
   ]
  },
  {
   "cell_type": "code",
   "execution_count": null,
   "metadata": {},
   "outputs": [],
   "source": [
    "# Set initial investment\n",
    "# YOUR CODE HERE!\n",
    "\n",
    "# Use the lower and upper `95%` confidence intervals to calculate the range of the possible outcomes of our $60,000\n",
    "# YOUR CODE HERE!\n",
    "\n",
    "# Print results\n",
    "print(f\"There is a 95% chance that an initial investment of ${initial_investment} in the portfolio\"\n",
    "      f\" over the next 5 years will end within in the range of\"\n",
    "      f\" ${ci_lower_five} and ${ci_upper_five}\")"
   ]
  },
  {
   "cell_type": "markdown",
   "metadata": {},
   "source": [
    "### Ten Years Retirement Option"
   ]
  },
  {
   "cell_type": "code",
   "execution_count": null,
   "metadata": {},
   "outputs": [],
   "source": [
    "# Configuring a Monte Carlo simulation to forecast 10 years cumulative returns\n",
    "# YOUR CODE HERE!"
   ]
  },
  {
   "cell_type": "code",
   "execution_count": null,
   "metadata": {},
   "outputs": [],
   "source": [
    "# Running a Monte Carlo simulation to forecast 10 years cumulative returns\n",
    "# YOUR CODE HERE!"
   ]
  },
  {
   "cell_type": "code",
   "execution_count": null,
   "metadata": {},
   "outputs": [],
   "source": [
    "# Plot simulation outcomes\n",
    "# YOUR CODE HERE!"
   ]
  },
  {
   "cell_type": "code",
   "execution_count": null,
   "metadata": {},
   "outputs": [],
   "source": [
    "# Plot probability distribution and confidence intervals\n",
    "# YOUR CODE HERE!"
   ]
  },
  {
   "cell_type": "code",
   "execution_count": null,
   "metadata": {},
   "outputs": [],
   "source": [
    "# Fetch summary statistics from the Monte Carlo simulation results\n",
    "# YOUR CODE HERE!\n",
    "\n",
    "# Print summary statistics\n",
    "# YOUR CODE HERE!"
   ]
  },
  {
   "cell_type": "code",
   "execution_count": null,
   "metadata": {},
   "outputs": [],
   "source": [
    "# Set initial investment\n",
    "# YOUR CODE HERE!\n",
    "\n",
    "# Use the lower and upper `95%` confidence intervals to calculate the range of the possible outcomes of our $60,000\n",
    "# YOUR CODE HERE!\n",
    "\n",
    "# Print results\n",
    "print(f\"There is a 95% chance that an initial investment of ${initial_investment} in the portfolio\"\n",
    "      f\" over the next 10 years will end within in the range of\"\n",
    "      f\" ${ci_lower_ten} and ${ci_upper_ten}\")"
   ]
  },
  {
   "cell_type": "code",
   "execution_count": null,
   "metadata": {},
   "outputs": [],
   "source": []
  }
 ],
 "metadata": {
  "kernelspec": {
   "display_name": "Python [conda env:dev]",
   "language": "python",
   "name": "conda-env-dev-py"
  },
  "language_info": {
   "codemirror_mode": {
    "name": "ipython",
    "version": 3
   },
   "file_extension": ".py",
   "mimetype": "text/x-python",
   "name": "python",
   "nbconvert_exporter": "python",
   "pygments_lexer": "ipython3",
   "version": "3.7.13"
  },
  "nteract": {
   "version": "0.28.0"
  }
 },
 "nbformat": 4,
 "nbformat_minor": 4
}
